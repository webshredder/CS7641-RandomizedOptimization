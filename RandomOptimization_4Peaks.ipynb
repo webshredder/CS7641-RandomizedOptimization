{
  "nbformat": 4,
  "nbformat_minor": 0,
  "metadata": {
    "colab": {
      "provenance": [],
      "collapsed_sections": []
    },
    "kernelspec": {
      "name": "python3",
      "display_name": "Python 3"
    },
    "language_info": {
      "name": "python"
    }
  },
  "cells": [
    {
      "cell_type": "code",
      "source": [
        "!pip install mlrose-hiive"
      ],
      "metadata": {
        "colab": {
          "base_uri": "https://localhost:8080/"
        },
        "id": "cqcVFkW81Kws",
        "outputId": "77d2352a-c9ea-400c-e389-27d7b2648268"
      },
      "execution_count": 1,
      "outputs": [
        {
          "output_type": "stream",
          "name": "stdout",
          "text": [
            "Looking in indexes: https://pypi.org/simple, https://us-python.pkg.dev/colab-wheels/public/simple/\n",
            "Collecting mlrose-hiive\n",
            "  Downloading mlrose_hiive-2.2.4.tar.gz (49 kB)\n",
            "\u001b[K     |████████████████████████████████| 49 kB 1.7 MB/s \n",
            "\u001b[?25hRequirement already satisfied: numpy in /usr/local/lib/python3.7/dist-packages (from mlrose-hiive) (1.21.6)\n",
            "Requirement already satisfied: scipy in /usr/local/lib/python3.7/dist-packages (from mlrose-hiive) (1.7.3)\n",
            "Requirement already satisfied: scikit-learn in /usr/local/lib/python3.7/dist-packages (from mlrose-hiive) (1.0.2)\n",
            "Requirement already satisfied: pandas in /usr/local/lib/python3.7/dist-packages (from mlrose-hiive) (1.3.5)\n",
            "Requirement already satisfied: networkx in /usr/local/lib/python3.7/dist-packages (from mlrose-hiive) (2.6.3)\n",
            "Requirement already satisfied: joblib in /usr/local/lib/python3.7/dist-packages (from mlrose-hiive) (1.2.0)\n",
            "Requirement already satisfied: pytz>=2017.3 in /usr/local/lib/python3.7/dist-packages (from pandas->mlrose-hiive) (2022.4)\n",
            "Requirement already satisfied: python-dateutil>=2.7.3 in /usr/local/lib/python3.7/dist-packages (from pandas->mlrose-hiive) (2.8.2)\n",
            "Requirement already satisfied: six>=1.5 in /usr/local/lib/python3.7/dist-packages (from python-dateutil>=2.7.3->pandas->mlrose-hiive) (1.15.0)\n",
            "Requirement already satisfied: threadpoolctl>=2.0.0 in /usr/local/lib/python3.7/dist-packages (from scikit-learn->mlrose-hiive) (3.1.0)\n",
            "Building wheels for collected packages: mlrose-hiive\n",
            "  Building wheel for mlrose-hiive (setup.py) ... \u001b[?25l\u001b[?25hdone\n",
            "  Created wheel for mlrose-hiive: filename=mlrose_hiive-2.2.4-py3-none-any.whl size=98351 sha256=18b05fbe56ae58977e9c8ae337c2c6f99e1d2f2c1dd1704c9f0ef6ff10aa2996\n",
            "  Stored in directory: /root/.cache/pip/wheels/ca/9c/44/36113054dda94da67040173c2a475dbfb6980c2c6ddf5747b1\n",
            "Successfully built mlrose-hiive\n",
            "Installing collected packages: mlrose-hiive\n",
            "Successfully installed mlrose-hiive-2.2.4\n"
          ]
        }
      ]
    },
    {
      "cell_type": "code",
      "metadata": {
        "id": "9kWOKK2mz0f1"
      },
      "source": [
        "#import libraries\n",
        "import pandas as pd\n",
        "import numpy as np\n",
        "import time\n",
        "import mlrose_hiive as mlrose\n",
        "import matplotlib.pyplot as plt"
      ],
      "execution_count": 2,
      "outputs": []
    },
    {
      "cell_type": "code",
      "source": [
        "#setup fitness function\n",
        "FP_fitness = mlrose.FourPeaks(t_pct=0.1)\n",
        "vectorsizes = [10, 20, 40, 60, 80, 100, 150, 200]\n",
        "repeats = 10"
      ],
      "metadata": {
        "id": "P9CjI7iq1VVO"
      },
      "execution_count": 64,
      "outputs": []
    },
    {
      "cell_type": "code",
      "source": [
        "# RHC - Iterate through vector size, random initial state vectors\n",
        "\n",
        "RHC_mean_time = []\n",
        "RHC_mean_iterations = []\n",
        "RHC_mean_fitness = []\n",
        "RHC_std_fitness = []\n",
        "RHC_std_time = []\n",
        "RHC_std_iterations = []\n",
        "RHC_local_optima_fract = []\n",
        "\n",
        "# itereate through different space sizes\n",
        "for size in range(len(vectorsizes)):\n",
        "  problem = mlrose.DiscreteOpt(length = vectorsizes[size], fitness_fn = FP_fitness)\n",
        "  RHC_time = []\n",
        "  RHC_iterations = []\n",
        "  RHC_best_fitness = []\n",
        "  RHC_local_optima = 0\n",
        "  for reps in range(repeats):\n",
        "    start_state = np.random.choice(2, size = vectorsizes[size])\n",
        "    tic = time.perf_counter()\n",
        "    best_state, best_fitness, history = mlrose.random_hill_climb(problem, max_attempts = 1500, max_iters = 10000, restarts = 10, init_state = start_state, curve = True)\n",
        "    toc = time.perf_counter()\n",
        "    RHC_time.append(toc-tic)\n",
        "    RHC_iterations.append(len(history))\n",
        "    if best_fitness == vectorsizes[size]:\n",
        "      RHC_local_optima += 1\n",
        "    else:\n",
        "      RHC_best_fitness.append(best_fitness)\n",
        "    #print('--- rep: ', reps, '   best state: ',best_state, ' best fitness: ', best_fitness)\n",
        "\n",
        "  RHC_mean_time.append(np.mean(RHC_time))\n",
        "  RHC_mean_iterations.append(np.mean(RHC_iterations))\n",
        "  RHC_mean_fitness.append(np.mean(RHC_best_fitness))\n",
        "  RHC_local_optima_fract.append(RHC_local_optima/repeats)\n",
        "  RHC_std_time.append(np.std(RHC_time))\n",
        "  RHC_std_iterations.append(np.std(RHC_iterations))\n",
        "  RHC_std_fitness.append(np.std(RHC_best_fitness))\n",
        "\n",
        "  print('************************ vector size: ', vectorsizes[size], '*****************************')\n",
        "  print('time (mean, std): (',RHC_mean_time[size], '   ', RHC_std_time[size], ')')\n",
        "  print('iterations (mean, std): (',RHC_mean_iterations[size], '   ', RHC_std_iterations[size], ')')\n",
        "  print('local optima (fraction): (',RHC_local_optima_fract[size], ')')\n",
        "  print('best non-local fitness (mean, std): (',RHC_mean_fitness[size], '   ', RHC_std_fitness[size], ')')\n",
        "  print('*******************************************************************************************')"
      ],
      "metadata": {
        "colab": {
          "base_uri": "https://localhost:8080/"
        },
        "id": "OZjdhzvQ72vK",
        "outputId": "697826f6-4840-4317-a9fd-09d53ad821f6"
      },
      "execution_count": 74,
      "outputs": [
        {
          "output_type": "stream",
          "name": "stdout",
          "text": [
            "************************ vector size:  10 *****************************\n",
            "time (mean, std): ( 0.3395929299000272     0.04122116791538154 )\n",
            "iterations (mean, std): ( 1526.9     16.446580191638628 )\n",
            "local optima (fraction): ( 0.1 )\n",
            "best non-local fitness (mean, std): ( 18.0     0.0 )\n",
            "*******************************************************************************************\n",
            "************************ vector size:  20 *****************************\n",
            "time (mean, std): ( 0.4471781050999198     0.09381788969493664 )\n",
            "iterations (mean, std): ( 1648.7     108.41498973850433 )\n",
            "local optima (fraction): ( 0.5 )\n",
            "best non-local fitness (mean, std): ( 37.0     0.0 )\n",
            "*******************************************************************************************\n",
            "************************ vector size:  40 *****************************\n",
            "time (mean, std): ( 0.6172730566000609     0.11897087888261784 )\n",
            "iterations (mean, std): ( 2236.7     360.13665461877105 )\n",
            "local optima (fraction): ( 0.9 )\n",
            "best non-local fitness (mean, std): ( 75.0     0.0 )\n",
            "*******************************************************************************************\n",
            "************************ vector size:  60 *****************************\n",
            "time (mean, std): ( 1.0283335277001242     0.1416615740005823 )\n",
            "iterations (mean, std): ( 3169.6     271.9474949323858 )\n",
            "local optima (fraction): ( 0.9 )\n",
            "best non-local fitness (mean, std): ( 113.0     0.0 )\n",
            "*******************************************************************************************\n",
            "************************ vector size:  80 *****************************\n",
            "time (mean, std): ( 1.5829590852001274     0.21771246623211918 )\n",
            "iterations (mean, std): ( 4645.9     432.9356649665167 )\n",
            "local optima (fraction): ( 1.0 )\n",
            "best non-local fitness (mean, std): ( nan     nan )\n",
            "*******************************************************************************************\n",
            "************************ vector size:  100 *****************************\n",
            "time (mean, std): ( 2.35065825469992     0.39696518479336546 )\n",
            "iterations (mean, std): ( 5935.8     1097.279435695393 )\n",
            "local optima (fraction): ( 1.0 )\n",
            "best non-local fitness (mean, std): ( nan     nan )\n",
            "*******************************************************************************************\n",
            "************************ vector size:  150 *****************************\n",
            "time (mean, std): ( 4.693438648299707     0.49395967519170747 )\n",
            "iterations (mean, std): ( 9851.7     444.90000000000003 )\n",
            "local optima (fraction): ( 0.9 )\n",
            "best non-local fitness (mean, std): ( 147.0     0.0 )\n",
            "*******************************************************************************************\n",
            "************************ vector size:  200 *****************************\n",
            "time (mean, std): ( 4.4360566343997565     0.604493427853665 )\n",
            "iterations (mean, std): ( 10000.0     0.0 )\n",
            "local optima (fraction): ( 0.0 )\n",
            "best non-local fitness (mean, std): ( 126.5     10.781929326423912 )\n",
            "*******************************************************************************************\n"
          ]
        }
      ]
    },
    {
      "cell_type": "code",
      "source": [
        "# SA - Iterate through vector size, random initial state vectors\n",
        "\n",
        "SA_mean_time = []\n",
        "SA_mean_iterations = []\n",
        "SA_mean_fitness = []\n",
        "SA_std_time = []\n",
        "SA_std_iterations = []\n",
        "SA_std_fitness = []\n",
        "SA_local_optima_fract = []\n",
        "SA_schedule = mlrose.GeomDecay(init_temp=20, decay=0.9, min_temp=.01)\n",
        "\n",
        "# itereate through different space sizes\n",
        "for size in range(len(vectorsizes)):\n",
        "  problem = mlrose.DiscreteOpt(length = vectorsizes[size], fitness_fn = FP_fitness)\n",
        "  SA_time = []\n",
        "  SA_iterations = []\n",
        "  SA_best_fitness = []\n",
        "  SA_local_optima = 0\n",
        "  for reps in range(repeats):\n",
        "    start_state = np.random.choice(2, size = vectorsizes[size])\n",
        "    tic = time.perf_counter()\n",
        "    best_state, best_fitness, history = mlrose.simulated_annealing(problem, schedule = SA_schedule, max_attempts = 500, max_iters = 15000, init_state = start_state, curve = True)\n",
        "    toc = time.perf_counter()\n",
        "    SA_time.append(toc-tic)\n",
        "    SA_iterations.append(len(history))\n",
        "    SA_best_fitness.append(best_fitness)\n",
        "    if best_fitness == vectorsizes[size]:\n",
        "      SA_local_optima += 1\n",
        "    else:\n",
        "      SA_best_fitness.append(best_fitness)\n",
        "    #print('--- rep: ', reps, '   best state: ',best_state, ' best fitness: ', best_fitness)\n",
        "\n",
        "  SA_mean_time.append(np.mean(SA_time))\n",
        "  SA_mean_iterations.append(np.mean(SA_iterations))\n",
        "  SA_mean_fitness.append(np.mean(SA_best_fitness))\n",
        "  SA_local_optima_fract.append(SA_local_optima/repeats)  \n",
        "  SA_std_time.append(np.std(SA_time))\n",
        "  SA_std_iterations.append(np.std(SA_iterations))\n",
        "  SA_std_fitness.append(np.std(SA_best_fitness))\n",
        "\n",
        "  print('************************ vector size: ', vectorsizes[size], '*****************************')\n",
        "  print('time (mean, std): (',SA_mean_time[size], '   ', SA_std_time[size], ')')\n",
        "  print('iterations (mean, std): (',SA_mean_iterations[size], '   ', SA_std_iterations[size], ')')\n",
        "  print('local optima (fraction): (',SA_local_optima_fract[size], ')')\n",
        "  print('best non-local fitness (mean, std): (',SA_mean_fitness[size], '   ', SA_std_fitness[size], ')')\n",
        "  print('*******************************************************************************************')\n"
      ],
      "metadata": {
        "colab": {
          "base_uri": "https://localhost:8080/"
        },
        "id": "uV_pwx-QnRN-",
        "outputId": "ea79dd4b-463d-48fd-eacb-4f7e30b4d1d7"
      },
      "execution_count": 78,
      "outputs": [
        {
          "output_type": "stream",
          "name": "stdout",
          "text": [
            "************************ vector size:  10 *****************************\n",
            "time (mean, std): ( 0.007066018800105667     0.002784481220099244 )\n",
            "iterations (mean, std): ( 241.0     11.269427669584644 )\n",
            "local optima (fraction): ( 0.1 )\n",
            "best non-local fitness (mean, std): ( 17.57894736842105     1.7863750261554883 )\n",
            "*******************************************************************************************\n",
            "************************ vector size:  20 *****************************\n",
            "time (mean, std): ( 0.020042608499716154     0.005022781751194653 )\n",
            "iterations (mean, std): ( 377.0     93.12249996644205 )\n",
            "local optima (fraction): ( 0.0 )\n",
            "best non-local fitness (mean, std): ( 37.0     0.0 )\n",
            "*******************************************************************************************\n",
            "************************ vector size:  40 *****************************\n",
            "time (mean, std): ( 0.04994178359993384     0.010208561607910735 )\n",
            "iterations (mean, std): ( 775.8     121.18399234222316 )\n",
            "local optima (fraction): ( 0.0 )\n",
            "best non-local fitness (mean, std): ( 75.0     0.0 )\n",
            "*******************************************************************************************\n",
            "************************ vector size:  60 *****************************\n",
            "time (mean, std): ( 0.12796561859995564     0.028972994574077437 )\n",
            "iterations (mean, std): ( 1832.8     367.3820354889444 )\n",
            "local optima (fraction): ( 0.3 )\n",
            "best non-local fitness (mean, std): ( 97.17647058823529     24.519464762696902 )\n",
            "*******************************************************************************************\n",
            "************************ vector size:  80 *****************************\n",
            "time (mean, std): ( 0.15503926609981136     0.05684749343703934 )\n",
            "iterations (mean, std): ( 3174.7     438.9109362957364 )\n",
            "local optima (fraction): ( 0.9 )\n",
            "best non-local fitness (mean, std): ( 92.9090909090909     27.384317162315384 )\n",
            "*******************************************************************************************\n",
            "************************ vector size:  100 *****************************\n",
            "time (mean, std): ( 0.3017251795001357     0.09414171045149718 )\n",
            "iterations (mean, std): ( 4526.0     577.9579569484272 )\n",
            "local optima (fraction): ( 0.8 )\n",
            "best non-local fitness (mean, std): ( 99.5     0.7637626158259734 )\n",
            "*******************************************************************************************\n",
            "************************ vector size:  150 *****************************\n",
            "time (mean, std): ( 0.8416558688000805     0.21923713228847963 )\n",
            "iterations (mean, std): ( 10516.7     1162.6347706825218 )\n",
            "local optima (fraction): ( 0.8 )\n",
            "best non-local fitness (mean, std): ( 171.83333333333334     50.1744180058147 )\n",
            "*******************************************************************************************\n",
            "************************ vector size:  200 *****************************\n",
            "time (mean, std): ( 1.4005985399002383     0.22610387736270782 )\n",
            "iterations (mean, std): ( 15000.0     0.0 )\n",
            "local optima (fraction): ( 0.0 )\n",
            "best non-local fitness (mean, std): ( 151.2     21.880585001320235 )\n",
            "*******************************************************************************************\n"
          ]
        }
      ]
    },
    {
      "cell_type": "code",
      "source": [
        "# GA - Iterate through vector size, random initial state vectors\n",
        "\n",
        "GA_mean_time = []\n",
        "GA_mean_iterations = []\n",
        "GA_mean_fitness = []\n",
        "GA_std_time = []\n",
        "GA_std_iterations = []\n",
        "GA_std_fitness = []\n",
        "GA_local_optima_fract = []\n",
        "\n",
        "# itereate through different space sizes\n",
        "for size in range(len(vectorsizes)):\n",
        "  problem = mlrose.DiscreteOpt(length = vectorsizes[size], fitness_fn = FP_fitness)\n",
        "  GA_time = []\n",
        "  GA_iterations = []\n",
        "  GA_best_fitness = []\n",
        "  GA_local_optima = 0\n",
        "  for reps in range(repeats):\n",
        "    #start_state = np.random.choice(2, size = vectorsizes[size]) - not used in mlrose.genetic_alg\n",
        "    tic = time.perf_counter()\n",
        "    best_state, best_fitness, history = mlrose.genetic_alg(problem, pop_size = vectorsizes[size]*4, mutation_prob=0.2, max_attempts = 500, max_iters = 1000, curve = True, random_state = size+reps+1)\n",
        "    toc = time.perf_counter()\n",
        "    GA_time.append(toc-tic)\n",
        "    GA_iterations.append(len(history))\n",
        "    GA_best_fitness.append(best_fitness)\n",
        "    if best_fitness == vectorsizes[size]:\n",
        "      GA_local_optima += 1\n",
        "    else:\n",
        "      GA_best_fitness.append(best_fitness)\n",
        "    #print('--- rep: ', reps, '   best state: ',best_state, ' best fitness: ', best_fitness)\n",
        "\n",
        "  GA_mean_time.append(np.mean(GA_time))\n",
        "  GA_mean_iterations.append(np.mean(GA_iterations))\n",
        "  GA_mean_fitness.append(np.mean(GA_best_fitness))\n",
        "  GA_local_optima_fract.append(GA_local_optima/repeats) \n",
        "  GA_std_time.append(np.std(GA_time))\n",
        "  GA_std_iterations.append(np.std(GA_iterations))\n",
        "  GA_std_fitness.append(np.std(GA_best_fitness))\n",
        "\n",
        "  print('************************ vector size: ', vectorsizes[size], '*****************************')\n",
        "  print('time (mean, std): (',GA_mean_time[size], '   ', GA_std_time[size], ')')\n",
        "  print('iterations (mean, std): (',GA_mean_iterations[size], '   ', GA_std_iterations[size], ')')\n",
        "  print('local optima (fraction): (',GA_local_optima_fract[size], ')')\n",
        "  print('best non-local fitness (mean, std): (',GA_mean_fitness[size], '   ', GA_std_fitness[size], ')')\n",
        "  print('*******************************************************************************************')"
      ],
      "metadata": {
        "colab": {
          "base_uri": "https://localhost:8080/"
        },
        "id": "3QPUJeKb0Imj",
        "outputId": "bc823059-3eb1-48a0-e0cb-b14112cf9483"
      },
      "execution_count": null,
      "outputs": [
        {
          "output_type": "stream",
          "name": "stdout",
          "text": [
            "************************ vector size:  10 *****************************\n",
            "time (mean, std): ( 1.3828797518999636     0.06118800784864627 )\n",
            "iterations (mean, std): ( 503.0     2.32379000772445 )\n",
            "local optima (fraction): ( 0.0 )\n",
            "best non-local fitness (mean, std): ( 18.0     0.0 )\n",
            "*******************************************************************************************\n",
            "************************ vector size:  20 *****************************\n",
            "time (mean, std): ( 3.1631765923000783     0.3779857228150572 )\n",
            "iterations (mean, std): ( 517.6     13.632314550361578 )\n",
            "local optima (fraction): ( 0.0 )\n",
            "best non-local fitness (mean, std): ( 37.0     0.0 )\n",
            "*******************************************************************************************\n",
            "************************ vector size:  40 *****************************\n",
            "time (mean, std): ( 6.968177292999644     0.34362702356978553 )\n",
            "iterations (mean, std): ( 556.9     15.769908052997645 )\n",
            "local optima (fraction): ( 0.0 )\n",
            "best non-local fitness (mean, std): ( 75.0     0.0 )\n",
            "*******************************************************************************************\n",
            "************************ vector size:  60 *****************************\n",
            "time (mean, std): ( 12.09057248220015     0.5375718731938002 )\n",
            "iterations (mean, std): ( 589.7     23.138928237928397 )\n",
            "local optima (fraction): ( 0.0 )\n",
            "best non-local fitness (mean, std): ( 113.0     0.0 )\n",
            "*******************************************************************************************\n",
            "************************ vector size:  80 *****************************\n",
            "time (mean, std): ( 18.18356061779996     1.716931180913924 )\n",
            "iterations (mean, std): ( 626.4     32.44749605131342 )\n",
            "local optima (fraction): ( 0.0 )\n",
            "best non-local fitness (mean, std): ( 151.0     0.0 )\n",
            "*******************************************************************************************\n",
            "************************ vector size:  100 *****************************\n",
            "time (mean, std): ( 25.42318958600008     1.4293268418121763 )\n",
            "iterations (mean, std): ( 677.7     29.573805977587664 )\n",
            "local optima (fraction): ( 0.0 )\n",
            "best non-local fitness (mean, std): ( 189.0     0.0 )\n",
            "*******************************************************************************************\n",
            "************************ vector size:  150 *****************************\n",
            "time (mean, std): ( 51.083726071699495     2.7300035356769814 )\n",
            "iterations (mean, std): ( 768.2     31.644272783554374 )\n",
            "local optima (fraction): ( 0.3 )\n",
            "best non-local fitness (mean, std): ( 260.3529411764706     51.08348550509725 )\n",
            "*******************************************************************************************\n"
          ]
        }
      ]
    },
    {
      "cell_type": "code",
      "source": [
        "# MIMIC - Iterate through vector size, random initial state vectors\n",
        "\n",
        "MIMIC_mean_time = []\n",
        "MIMIC_mean_iterations = []\n",
        "MIMIC_mean_fitness = []\n",
        "MIMIC_std_time = []\n",
        "MIMIC_std_iterations = []\n",
        "MIMIC_std_fitness = []\n",
        "MIMIC_vectorsizes = [10, 40, 80, 150]  # use smaller vectors to save time\n",
        "MIMIC_local_optima_fract = []\n",
        "\n",
        "# itereate through different space sizes\n",
        "for size in range(len(MIMIC_vectorsizes)):\n",
        "  problem = mlrose.DiscreteOpt(length = MIMIC_vectorsizes[size], fitness_fn = FP_fitness)\n",
        "  MIMIC_time = []\n",
        "  MIMIC_iterations = []\n",
        "  MIMIC_best_fitness = []\n",
        "  MIMIC_local_optima = 0\n",
        "  for reps in range(2):  # use 2 to save time\n",
        "    #start_state = np.random.choice(2, size = MIMIC_vectorsizes[size]) - not used in mlrose.mimic\n",
        "    tic = time.perf_counter()\n",
        "    best_state, best_fitness, history = mlrose.mimic(problem, pop_size = MIMIC_vectorsizes[size], keep_pct=0.2, max_attempts = 500, max_iters = 1000, curve = True, random_state = size+reps+1)\n",
        "    toc = time.perf_counter()\n",
        "    MIMIC_time.append(toc-tic)\n",
        "    MIMIC_iterations.append(len(history))\n",
        "    MIMIC_best_fitness.append(best_fitness)\n",
        "    if best_fitness == MIMIC_vectorsizes[size]:\n",
        "      MIMIC_local_optima += 1\n",
        "    else:\n",
        "      MIMIC_best_fitness.append(best_fitness)\n",
        "    #print('--- rep: ', reps, '   best state: ',best_state, ' best fitness: ', best_fitness)\n",
        "\n",
        "  MIMIC_mean_time.append(np.mean(MIMIC_time))\n",
        "  MIMIC_mean_iterations.append(np.mean(MIMIC_iterations))\n",
        "  MIMIC_mean_fitness.append(np.mean(MIMIC_best_fitness))\n",
        "  MIMIC_local_optima_fract.append(MIMIC_local_optima/repeats)\n",
        "  MIMIC_std_time.append(np.std(MIMIC_time))\n",
        "  MIMIC_std_iterations.append(np.std(MIMIC_iterations))\n",
        "  MIMIC_std_fitness.append(np.std(MIMIC_best_fitness))\n",
        "\n",
        "  print('************************ vector size: ', MIMIC_vectorsizes[size])\n",
        "  print('time (mean, std): (', MIMIC_mean_time[size], '   ',  MIMIC_std_time[size], ')')\n",
        "  print('iterations (mean, std): (', MIMIC_mean_iterations[size], '   ',  MIMIC_std_iterations[size], ')')\n",
        "  print('local optima (fraction): (',MIMIC_local_optima_fract[size], ')')\n",
        "  print('best non-local fitness (mean, std): (',MIMIC_mean_fitness[size], '   ', MIMIC_std_fitness[size], ')')\n",
        "  print('*******************************************************************************************')"
      ],
      "metadata": {
        "colab": {
          "base_uri": "https://localhost:8080/"
        },
        "id": "sDvtTjMD2hF-",
        "outputId": "15f3e414-0db4-4830-ad12-3adaecef53a7"
      },
      "execution_count": 19,
      "outputs": [
        {
          "output_type": "stream",
          "name": "stdout",
          "text": [
            "************************ vector size:  10\n",
            "time (mean, std): ( 4.536443493499746     0.01273256350009433 )\n",
            "iterations (mean, std): ( 101.0     0.0 )\n",
            "local optima (fraction): ( 0.0 )\n",
            "best non-local fitness (mean, std): ( 5.5     0.5 )\n",
            "*******************************************************************************************\n",
            "************************ vector size:  40\n",
            "time (mean, std): ( 80.37325431249974     2.245914942499894 )\n",
            "iterations (mean, std): ( 104.0     2.0 )\n",
            "local optima (fraction): ( 0.0 )\n",
            "best non-local fitness (mean, std): ( 49.5     0.5 )\n",
            "*******************************************************************************************\n",
            "************************ vector size:  80\n",
            "time (mean, std): ( 336.434724123     20.72736096199992 )\n",
            "iterations (mean, std): ( 104.5     1.5 )\n",
            "local optima (fraction): ( 0.0 )\n",
            "best non-local fitness (mean, std): ( 13.0     2.0 )\n",
            "*******************************************************************************************\n",
            "************************ vector size:  150\n",
            "time (mean, std): ( 1164.948568327     57.85403889300005 )\n",
            "iterations (mean, std): ( 109.5     5.5 )\n",
            "local optima (fraction): ( 0.0 )\n",
            "best non-local fitness (mean, std): ( 21.0     6.0 )\n",
            "*******************************************************************************************\n"
          ]
        }
      ]
    },
    {
      "cell_type": "code",
      "source": [
        "#plot results - fitness\n",
        "#plt.plot(vectorsizes, RHC_mean_fitness , '-o', label='RHC')\n",
        "plt.errorbar(x=vectorsizes, y=RHC_mean_fitness, yerr=RHC_std_fitness, barsabove=True, fmt='-o', label='RHC')\n",
        "plt.errorbar(x=vectorsizes, y=SA_mean_fitness, yerr=SA_std_fitness, barsabove=True, fmt='-o', label='SA')\n",
        "plt.errorbar(x=vectorsizes, y=GA_mean_fitness, yerr=GA_std_fitness, barsabove=True, fmt='-o', label='GA')\n",
        "plt.errorbar(x=MIMIC_vectorsizes, y=MIMIC_mean_fitness, yerr=MIMIC_std_fitness, barsabove=True, fmt='-o', label='MIMIC')\n",
        "plt.title('4Peaks Random Optimization - Global optima mean fitness')\n",
        "plt.ylabel('mean fitness, ten repeats')\n",
        "plt.xlabel('X vector size')\n",
        "plt.legend()\n",
        "plt.show()"
      ],
      "metadata": {
        "id": "hnMuNTiq2gy_"
      },
      "execution_count": null,
      "outputs": []
    },
    {
      "cell_type": "code",
      "source": [
        "#plot results - iterations\n",
        "#plt.plot(vectorsizes, RHC_mean_fitness , '-o', label='RHC')\n",
        "plt.errorbar(x=vectorsizes, y=RHC_mean_iterations, yerr=RHC_std_iterations, barsabove=True, fmt='-o', label='RHC')\n",
        "plt.errorbar(x=vectorsizes, y=SA_mean_iterations, yerr=SA_std_iterations, barsabove=True, fmt='-o', label='SA')\n",
        "plt.errorbar(x=vectorsizes, y=GA_mean_iterations, yerr=GA_std_iterations, barsabove=True, fmt='-o', label='GA')\n",
        "plt.errorbar(x=MIMIC_vectorsizes, y=MIMIC_mean_iterations, yerr=MIMIC_std_iterations, barsabove=True, fmt='-o', label='MIMIC')\n",
        "plt.title('4Peaks Random Optimization - mean iterations per run')\n",
        "plt.ylabel('mean iterations, ten repeats')\n",
        "plt.xlabel('X vector size')\n",
        "plt.legend()\n",
        "plt.show()"
      ],
      "metadata": {
        "colab": {
          "base_uri": "https://localhost:8080/",
          "height": 295
        },
        "id": "d0cedpfEuQ74",
        "outputId": "e3768fbc-0f88-465d-964e-118ef42dcd47"
      },
      "execution_count": 71,
      "outputs": [
        {
          "output_type": "display_data",
          "data": {
            "text/plain": [
              "<Figure size 432x288 with 1 Axes>"
            ],
            "image/png": "[encoded data removed]"
          },
          "metadata": {
            "needs_background": "light"
          }
        }
      ]
    },
    {
      "cell_type": "code",
      "source": [
        "#plot results - run time\n",
        "#plt.plot(vectorsizes, RHC_mean_fitness , '-o', label='RHC')\n",
        "plt.errorbar(x=vectorsizes, y=RHC_mean_time, yerr=RHC_std_time, barsabove=True, fmt='-o', label='RHC')\n",
        "plt.errorbar(x=vectorsizes, y=SA_mean_time, yerr=SA_std_time, barsabove=True, fmt='-o', label='SA')\n",
        "plt.errorbar(x=vectorsizes, y=GA_mean_time, yerr=GA_std_time, barsabove=True, fmt='-o', label='GA')\n",
        "plt.errorbar(x=MIMIC_vectorsizes, y=MIMIC_mean_time, yerr=MIMIC_std_time, barsabove=True, fmt='-o', label='MIMIC')\n",
        "plt.title('4Peaks Random Optimization - mean run time')\n",
        "plt.ylabel('mean run time, ten repeats (sec)')\n",
        "plt.yscale('log')\n",
        "plt.xlabel('X vector size')\n",
        "plt.legend()\n",
        "plt.show()"
      ],
      "metadata": {
        "colab": {
          "base_uri": "https://localhost:8080/",
          "height": 295
        },
        "id": "leip_zANuUc3",
        "outputId": "a4dc2c09-1fe0-4f88-897c-441f837abbd1"
      },
      "execution_count": 76,
      "outputs": [
        {
          "output_type": "display_data",
          "data": {
            "text/plain": [
              "<Figure size 432x288 with 1 Axes>"
            ],
            "image/png": "[encoded data removed]"
          },
          "metadata": {
            "needs_background": "light"
          }
        }
      ]
    },
    {
      "cell_type": "code",
      "source": [
        "#plot results - Local Optima\n",
        "#plt.plot(vectorsizes, RHC_mean_fitness , '-o', label='RHC')\n",
        "plt.errorbar(x=vectorsizes, y=RHC_local_optima_fract, fmt='-o', label='RHC')\n",
        "plt.errorbar(x=vectorsizes, y=SA_local_optima_fract, fmt='-o', label='SA')\n",
        "plt.errorbar(x=vectorsizes, y=GA_local_optima_fract, fmt='-o', label='GA')\n",
        "plt.errorbar(x=MIMIC_vectorsizes, y=MIMIC_local_optima_fract, fmt='-o', label='MIMIC')\n",
        "plt.title('4Peaks Random Optimization - fraction local optima found')\n",
        "plt.ylabel('fraction local optima found, ten repeats')\n",
        "#plt.yscale('log')\n",
        "plt.xlabel('X vector size')\n",
        "plt.legend()\n",
        "plt.show()"
      ],
      "metadata": {
        "colab": {
          "base_uri": "https://localhost:8080/",
          "height": 295
        },
        "id": "W08K2pQH31PN",
        "outputId": "cac3a933-d333-46ad-90f0-e7063c1a71d7"
      },
      "execution_count": 77,
      "outputs": [
        {
          "output_type": "display_data",
          "data": {
            "text/plain": [
              "<Figure size 432x288 with 1 Axes>"
            ],
            "image/png": "[encoded data removed]"
          },
          "metadata": {
            "needs_background": "light"
          }
        }
      ]
    }
  ]
}