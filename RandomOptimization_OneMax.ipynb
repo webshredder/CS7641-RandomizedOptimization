{
  "nbformat": 4,
  "nbformat_minor": 0,
  "metadata": {
    "colab": {
      "provenance": [],
      "collapsed_sections": []
    },
    "kernelspec": {
      "name": "python3",
      "display_name": "Python 3"
    },
    "language_info": {
      "name": "python"
    }
  },
  "cells": [
    {
      "cell_type": "code",
      "source": [
        "!pip install mlrose-hiive"
      ],
      "metadata": {
        "colab": {
          "base_uri": "https://localhost:8080/"
        },
        "id": "cqcVFkW81Kws",
        "outputId": "10c14c65-6ac6-4764-f328-7ca87c86e1ab"
      },
      "execution_count": 4,
      "outputs": [
        {
          "output_type": "stream",
          "name": "stdout",
          "text": [
            "Looking in indexes: https://pypi.org/simple, https://us-python.pkg.dev/colab-wheels/public/simple/\n",
            "Collecting mlrose-hiive\n",
            "  Downloading mlrose_hiive-2.2.4.tar.gz (49 kB)\n",
            "\u001b[K     |████████████████████████████████| 49 kB 2.6 MB/s \n",
            "\u001b[?25hRequirement already satisfied: numpy in /usr/local/lib/python3.7/dist-packages (from mlrose-hiive) (1.21.6)\n",
            "Requirement already satisfied: scipy in /usr/local/lib/python3.7/dist-packages (from mlrose-hiive) (1.7.3)\n",
            "Requirement already satisfied: scikit-learn in /usr/local/lib/python3.7/dist-packages (from mlrose-hiive) (1.0.2)\n",
            "Requirement already satisfied: pandas in /usr/local/lib/python3.7/dist-packages (from mlrose-hiive) (1.3.5)\n",
            "Requirement already satisfied: networkx in /usr/local/lib/python3.7/dist-packages (from mlrose-hiive) (2.6.3)\n",
            "Requirement already satisfied: joblib in /usr/local/lib/python3.7/dist-packages (from mlrose-hiive) (1.2.0)\n",
            "Requirement already satisfied: pytz>=2017.3 in /usr/local/lib/python3.7/dist-packages (from pandas->mlrose-hiive) (2022.4)\n",
            "Requirement already satisfied: python-dateutil>=2.7.3 in /usr/local/lib/python3.7/dist-packages (from pandas->mlrose-hiive) (2.8.2)\n",
            "Requirement already satisfied: six>=1.5 in /usr/local/lib/python3.7/dist-packages (from python-dateutil>=2.7.3->pandas->mlrose-hiive) (1.15.0)\n",
            "Requirement already satisfied: threadpoolctl>=2.0.0 in /usr/local/lib/python3.7/dist-packages (from scikit-learn->mlrose-hiive) (3.1.0)\n",
            "Building wheels for collected packages: mlrose-hiive\n",
            "  Building wheel for mlrose-hiive (setup.py) ... \u001b[?25l\u001b[?25hdone\n",
            "  Created wheel for mlrose-hiive: filename=mlrose_hiive-2.2.4-py3-none-any.whl size=98351 sha256=823e5e1a12c3fb636172d77998f7ea9d37db0fce911a3e05251e4dcdb00c82d1\n",
            "  Stored in directory: /root/.cache/pip/wheels/ca/9c/44/36113054dda94da67040173c2a475dbfb6980c2c6ddf5747b1\n",
            "Successfully built mlrose-hiive\n",
            "Installing collected packages: mlrose-hiive\n",
            "Successfully installed mlrose-hiive-2.2.4\n"
          ]
        }
      ]
    },
    {
      "cell_type": "code",
      "metadata": {
        "id": "9kWOKK2mz0f1"
      },
      "source": [
        "#import libraries\n",
        "import pandas as pd\n",
        "import numpy as np\n",
        "import time\n",
        "import mlrose_hiive as mlrose\n",
        "import matplotlib.pyplot as plt"
      ],
      "execution_count": 5,
      "outputs": []
    },
    {
      "cell_type": "code",
      "source": [
        "#setup fitness function\n",
        "OM_fitness = mlrose.OneMax()\n",
        "vectorsizes = [10, 20, 40, 60, 80, 100, 150, 200]\n",
        "repeats = 10"
      ],
      "metadata": {
        "id": "P9CjI7iq1VVO"
      },
      "execution_count": 6,
      "outputs": []
    },
    {
      "cell_type": "code",
      "source": [
        "# RHC - Iterate through vector size, random initial state vectors\n",
        "\n",
        "RHC_mean_time = []\n",
        "RHC_mean_iterations = []\n",
        "RHC_mean_fitness = []\n",
        "RHC_std_time = []\n",
        "RHC_std_iterations = []\n",
        "RHC_std_fitness = []\n",
        "\n",
        "# itereate through different space sizes\n",
        "for size in range(len(vectorsizes)):\n",
        "  problem = mlrose.DiscreteOpt(length = vectorsizes[size], fitness_fn = OM_fitness)\n",
        "  RHC_time = []\n",
        "  RHC_iterations = []\n",
        "  RHC_best_fitness = []\n",
        "  for reps in range(repeats):\n",
        "    start_state = np.random.choice(2, size = vectorsizes[size])\n",
        "    tic = time.perf_counter()\n",
        "    best_state, best_fitness, history = mlrose.random_hill_climb(problem, max_attempts = 100, max_iters = 1000, restarts = 10, init_state = start_state, curve = True)\n",
        "    toc = time.perf_counter()\n",
        "    RHC_time.append(toc-tic)\n",
        "    RHC_iterations.append(len(history))\n",
        "    RHC_best_fitness.append(best_fitness)\n",
        "\n",
        "  RHC_mean_time.append(np.mean(RHC_time))\n",
        "  RHC_mean_iterations.append(np.mean(RHC_iterations))\n",
        "  RHC_mean_fitness.append(np.mean(RHC_best_fitness))\n",
        "  RHC_std_time.append(np.std(RHC_time))\n",
        "  RHC_std_iterations.append(np.std(RHC_iterations))\n",
        "  RHC_std_fitness.append(np.std(RHC_best_fitness))\n",
        "\n",
        "  print('************************ vector size: ', vectorsizes[size])\n",
        "  print('time (mean, std): (',RHC_mean_time[size], '   ', RHC_std_time[size], ')')\n",
        "  print('iterations (mean, std): (',RHC_mean_iterations[size], '   ', RHC_std_iterations[size], ')')\n",
        "  print('best fitness (mean, std): (',RHC_mean_fitness[size], '   ', RHC_std_fitness[size], ')')"
      ],
      "metadata": {
        "colab": {
          "base_uri": "https://localhost:8080/"
        },
        "id": "OZjdhzvQ72vK",
        "outputId": "f3e04828-9129-4350-e364-1ee625816e03"
      },
      "execution_count": 7,
      "outputs": [
        {
          "output_type": "stream",
          "name": "stdout",
          "text": [
            "************************ vector size:  10\n",
            "time (mean, std): ( 0.04029167299999727     0.010880853081042814 )\n",
            "iterations (mean, std): ( 127.8     17.313578486263317 )\n",
            "best fitness (mean, std): ( 10.0     0.0 )\n",
            "************************ vector size:  20\n",
            "time (mean, std): ( 0.06251087010000163     0.01701548305087553 )\n",
            "iterations (mean, std): ( 157.8     35.09073951913809 )\n",
            "best fitness (mean, std): ( 20.0     0.0 )\n",
            "************************ vector size:  40\n",
            "time (mean, std): ( 0.08949159439999903     0.022493238370992808 )\n",
            "iterations (mean, std): ( 245.3     41.32807762284619 )\n",
            "best fitness (mean, std): ( 40.0     0.0 )\n",
            "************************ vector size:  60\n",
            "time (mean, std): ( 0.12768696219999925     0.04498865298018531 )\n",
            "iterations (mean, std): ( 279.5     40.102992407051126 )\n",
            "best fitness (mean, std): ( 60.0     0.0 )\n",
            "************************ vector size:  80\n",
            "time (mean, std): ( 0.1358127345000014     0.04080415520792476 )\n",
            "iterations (mean, std): ( 410.3     37.63787985527346 )\n",
            "best fitness (mean, std): ( 80.0     0.0 )\n",
            "************************ vector size:  100\n",
            "time (mean, std): ( 0.1440413857000024     0.04840774294991317 )\n",
            "iterations (mean, std): ( 440.0     57.54476518329013 )\n",
            "best fitness (mean, std): ( 100.0     0.0 )\n",
            "************************ vector size:  150\n",
            "time (mean, std): ( 0.19864659839999632     0.05614765853367155 )\n",
            "iterations (mean, std): ( 682.1     61.0630002538362 )\n",
            "best fitness (mean, std): ( 150.0     0.0 )\n",
            "************************ vector size:  200\n",
            "time (mean, std): ( 0.22713099170000106     0.06934313102058641 )\n",
            "iterations (mean, std): ( 839.1     101.12215385364377 )\n",
            "best fitness (mean, std): ( 199.6     0.4898979485566356 )\n"
          ]
        }
      ]
    },
    {
      "cell_type": "code",
      "source": [
        "# SA - Iterate through vector size, random initial state vectors\n",
        "\n",
        "SA_mean_time = []\n",
        "SA_mean_iterations = []\n",
        "SA_mean_fitness = []\n",
        "SA_std_time = []\n",
        "SA_std_iterations = []\n",
        "SA_std_fitness = []\n",
        "SA_schedule = mlrose.GeomDecay(init_temp=15, decay=0.85, min_temp=.01)\n",
        "\n",
        "# itereate through different space sizes\n",
        "for size in range(len(vectorsizes)):\n",
        "  problem = mlrose.DiscreteOpt(length = vectorsizes[size], fitness_fn = OM_fitness)\n",
        "  SA_time = []\n",
        "  SA_iterations = []\n",
        "  SA_best_fitness = []\n",
        "  for reps in range(repeats):\n",
        "    start_state = np.random.choice(2, size = vectorsizes[size])\n",
        "    tic = time.perf_counter()\n",
        "    best_state, best_fitness, history = mlrose.simulated_annealing(problem, schedule = SA_schedule, max_attempts = 100, max_iters = 1000, init_state = start_state, curve = True)\n",
        "    toc = time.perf_counter()\n",
        "    SA_time.append(toc-tic)\n",
        "    SA_iterations.append(len(history))\n",
        "    SA_best_fitness.append(best_fitness)\n",
        "\n",
        "  SA_mean_time.append(np.mean(SA_time))\n",
        "  SA_mean_iterations.append(np.mean(SA_iterations))\n",
        "  SA_mean_fitness.append(np.mean(SA_best_fitness))\n",
        "  SA_std_time.append(np.std(SA_time))\n",
        "  SA_std_iterations.append(np.std(SA_iterations))\n",
        "  SA_std_fitness.append(np.std(SA_best_fitness))\n",
        "\n",
        "  print('************************ vector size: ', vectorsizes[size])\n",
        "  print('time (mean, std): (',SA_mean_time[size], '   ', SA_std_time[size], ')')\n",
        "  print('iterations (mean, std): (',SA_mean_iterations[size], '   ', SA_std_iterations[size], ')')\n",
        "  print('best fitness (mean, std): (',SA_mean_fitness[size], '   ', SA_std_fitness[size], ')')"
      ],
      "metadata": {
        "colab": {
          "base_uri": "https://localhost:8080/"
        },
        "id": "uV_pwx-QnRN-",
        "outputId": "12295c34-a503-4991-a996-57bf9a785375"
      },
      "execution_count": 18,
      "outputs": [
        {
          "output_type": "stream",
          "name": "stdout",
          "text": [
            "************************ vector size:  10\n",
            "time (mean, std): ( 0.004817784199985908     0.001617222695292752 )\n",
            "iterations (mean, std): ( 129.1     8.3 )\n",
            "best fitness (mean, std): ( 10.0     0.0 )\n",
            "************************ vector size:  20\n",
            "time (mean, std): ( 0.010972794000031172     0.0031627865898313542 )\n",
            "iterations (mean, std): ( 178.3     22.5168825550963 )\n",
            "best fitness (mean, std): ( 20.0     0.0 )\n",
            "************************ vector size:  40\n",
            "time (mean, std): ( 0.01635055559997909     0.0026033200228333243 )\n",
            "iterations (mean, std): ( 256.2     28.091991741419832 )\n",
            "best fitness (mean, std): ( 39.9     0.3 )\n",
            "************************ vector size:  60\n",
            "time (mean, std): ( 0.01800078360001862     0.004884633399103443 )\n",
            "iterations (mean, std): ( 277.3     46.86587244466916 )\n",
            "best fitness (mean, std): ( 59.4     1.2806248474865698 )\n",
            "************************ vector size:  80\n",
            "time (mean, std): ( 0.021822542599988993     0.0029064190222594095 )\n",
            "iterations (mean, std): ( 375.0     51.20156247615887 )\n",
            "best fitness (mean, std): ( 79.9     0.30000000000000004 )\n",
            "************************ vector size:  100\n",
            "time (mean, std): ( 0.027341377099992313     0.004988984937002181 )\n",
            "iterations (mean, std): ( 455.6     68.34500713292815 )\n",
            "best fitness (mean, std): ( 99.2     1.2489995996796797 )\n",
            "************************ vector size:  150\n",
            "time (mean, std): ( 0.03423227559997031     0.0045057897223834 )\n",
            "iterations (mean, std): ( 585.1     87.14292857139931 )\n",
            "best fitness (mean, std): ( 148.0     1.8439088914585775 )\n",
            "************************ vector size:  200\n",
            "time (mean, std): ( 0.04587210630004392     0.01241417061385573 )\n",
            "iterations (mean, std): ( 797.3     101.37953442386684 )\n",
            "best fitness (mean, std): ( 197.8     1.8330302779823358 )\n"
          ]
        }
      ]
    },
    {
      "cell_type": "code",
      "source": [
        "# GA - Iterate through vector size, random initial state vectors\n",
        "\n",
        "GA_mean_time = []\n",
        "GA_mean_iterations = []\n",
        "GA_mean_fitness = []\n",
        "GA_std_time = []\n",
        "GA_std_iterations = []\n",
        "GA_std_fitness = []\n",
        "\n",
        "# itereate through different space sizes\n",
        "for size in range(len(vectorsizes)):\n",
        "  problem = mlrose.DiscreteOpt(length = vectorsizes[size], fitness_fn = OM_fitness)\n",
        "  GA_time = []\n",
        "  GA_iterations = []\n",
        "  GA_best_fitness = []\n",
        "  for reps in range(repeats):\n",
        "    #start_state = np.random.choice(2, size = vectorsizes[size]) - not used in mlrose.genetic_alg\n",
        "    tic = time.perf_counter()\n",
        "    best_state, best_fitness, history = mlrose.genetic_alg(problem, pop_size = vectorsizes[size], mutation_prob=0.4, max_attempts = 100, max_iters = 1000, curve = True, random_state = size+reps+1)\n",
        "    toc = time.perf_counter()\n",
        "    GA_time.append(toc-tic)\n",
        "    GA_iterations.append(len(history))\n",
        "    GA_best_fitness.append(best_fitness)\n",
        "\n",
        "  GA_mean_time.append(np.mean(GA_time))\n",
        "  GA_mean_iterations.append(np.mean(GA_iterations))\n",
        "  GA_mean_fitness.append(np.mean(GA_best_fitness))\n",
        "  GA_std_time.append(np.std(GA_time))\n",
        "  GA_std_iterations.append(np.std(GA_iterations))\n",
        "  GA_std_fitness.append(np.std(GA_best_fitness))\n",
        "\n",
        "  print('************************ vector size: ', vectorsizes[size])\n",
        "  print('time (mean, std): (',GA_mean_time[size], '   ', GA_std_time[size], ')')\n",
        "  print('iterations (mean, std): (',GA_mean_iterations[size], '   ', GA_std_iterations[size], ')')\n",
        "  print('best fitness (mean, std): (',GA_mean_fitness[size], '   ', GA_std_fitness[size], ')')"
      ],
      "metadata": {
        "colab": {
          "base_uri": "https://localhost:8080/"
        },
        "id": "3QPUJeKb0Imj",
        "outputId": "1a9bc251-9f58-4437-ec2b-4259197bc8c9"
      },
      "execution_count": 19,
      "outputs": [
        {
          "output_type": "stream",
          "name": "stdout",
          "text": [
            "************************ vector size:  10\n",
            "time (mean, std): ( 0.08196054389998153     0.008455252026963185 )\n",
            "iterations (mean, std): ( 108.9     4.158124577258358 )\n",
            "best fitness (mean, std): ( 10.0     0.0 )\n",
            "************************ vector size:  20\n",
            "time (mean, std): ( 0.18087239730002694     0.007912671286131675 )\n",
            "iterations (mean, std): ( 116.7     3.7696153649941526 )\n",
            "best fitness (mean, std): ( 20.0     0.0 )\n",
            "************************ vector size:  40\n",
            "time (mean, std): ( 0.3587353755999857     0.0134451203115909 )\n",
            "iterations (mean, std): ( 122.6     3.4985711369071804 )\n",
            "best fitness (mean, std): ( 40.0     0.0 )\n",
            "************************ vector size:  60\n",
            "time (mean, std): ( 0.5655864952999764     0.01481501815913877 )\n",
            "iterations (mean, std): ( 128.8     3.9949968710876353 )\n",
            "best fitness (mean, std): ( 60.0     0.0 )\n",
            "************************ vector size:  80\n",
            "time (mean, std): ( 0.7712553846999981     0.024991110246612058 )\n",
            "iterations (mean, std): ( 134.2     2.7856776554368237 )\n",
            "best fitness (mean, std): ( 80.0     0.0 )\n",
            "************************ vector size:  100\n",
            "time (mean, std): ( 0.9976774465000062     0.029114549854728028 )\n",
            "iterations (mean, std): ( 138.7     2.2825424421026654 )\n",
            "best fitness (mean, std): ( 100.0     0.0 )\n",
            "************************ vector size:  150\n",
            "time (mean, std): ( 1.8976324668999722     0.537764954313228 )\n",
            "iterations (mean, std): ( 149.4     1.9595917942265424 )\n",
            "best fitness (mean, std): ( 150.0     0.0 )\n",
            "************************ vector size:  200\n",
            "time (mean, std): ( 3.052478789299994     0.8610438317020916 )\n",
            "iterations (mean, std): ( 159.6     2.1999999999999997 )\n",
            "best fitness (mean, std): ( 200.0     0.0 )\n"
          ]
        }
      ]
    },
    {
      "cell_type": "code",
      "source": [
        "# MIMIC - Iterate through vector size, random initial state vectors\n",
        "\n",
        "MIMIC_mean_time = []\n",
        "MIMIC_mean_iterations = []\n",
        "MIMIC_mean_fitness = []\n",
        "MIMIC_std_time = []\n",
        "MIMIC_std_iterations = []\n",
        "MIMIC_std_fitness = []\n",
        "MIMIC_vectorsizes = [10, 40, 80, 150]  # use smaller vectors to save time\n",
        "\n",
        "# itereate through different space sizes\n",
        "for size in range(len(MIMIC_vectorsizes)):\n",
        "  problem = mlrose.DiscreteOpt(length = MIMIC_vectorsizes[size], fitness_fn = OM_fitness)\n",
        "  MIMIC_time = []\n",
        "  MIMIC_iterations = []\n",
        "  MIMIC_best_fitness = []\n",
        "  for reps in range(2):  # use 2 to save time\n",
        "    #start_state = np.random.choice(2, size = MIMIC_vectorsizes[size]) - not used in mlrose.mimic\n",
        "    tic = time.perf_counter()\n",
        "    best_state, best_fitness, history = mlrose.mimic(problem, pop_size = MIMIC_vectorsizes[size], keep_pct=0.2, max_attempts = 100, max_iters = 1000, curve = True, random_state = size+reps+1)\n",
        "    toc = time.perf_counter()\n",
        "    MIMIC_time.append(toc-tic)\n",
        "    MIMIC_iterations.append(len(history))\n",
        "    MIMIC_best_fitness.append(best_fitness)\n",
        "\n",
        "  MIMIC_mean_time.append(np.mean(MIMIC_time))\n",
        "  MIMIC_mean_iterations.append(np.mean(MIMIC_iterations))\n",
        "  MIMIC_mean_fitness.append(np.mean(MIMIC_best_fitness))\n",
        "  MIMIC_std_time.append(np.std(MIMIC_time))\n",
        "  MIMIC_std_iterations.append(np.std(MIMIC_iterations))\n",
        "  MIMIC_std_fitness.append(np.std(MIMIC_best_fitness))\n",
        "\n",
        "  print('************************ vector size: ', MIMIC_vectorsizes[size])\n",
        "  print('time (mean, std): (', MIMIC_mean_time[size], '   ',  MIMIC_std_time[size], ')')\n",
        "  print('iterations (mean, std): (', MIMIC_mean_iterations[size], '   ',  MIMIC_std_iterations[size], ')')\n",
        "  print('best fitness (mean, std): (', MIMIC_mean_fitness[size], '   ',  MIMIC_std_fitness[size], ')')"
      ],
      "metadata": {
        "colab": {
          "base_uri": "https://localhost:8080/"
        },
        "id": "sDvtTjMD2hF-",
        "outputId": "bf8dce1a-29c2-41df-bf5a-5b4ce4f2f0fc"
      },
      "execution_count": 40,
      "outputs": [
        {
          "output_type": "stream",
          "name": "stdout",
          "text": [
            "************************ vector size:  10\n",
            "time (mean, std): ( 4.545592905999456     0.0034059730000990385 )\n",
            "iterations (mean, std): ( 101.5     0.5 )\n",
            "best fitness (mean, std): ( 8.0     0.0 )\n",
            "************************ vector size:  40\n",
            "time (mean, std): ( 76.27338413999996     1.130475436999859 )\n",
            "iterations (mean, std): ( 104.5     0.5 )\n",
            "best fitness (mean, std): ( 35.5     0.5 )\n",
            "************************ vector size:  80\n",
            "time (mean, std): ( 328.79991426100014     2.392588590000287 )\n",
            "iterations (mean, std): ( 110.0     1.0 )\n",
            "best fitness (mean, std): ( 72.0     2.0 )\n",
            "************************ vector size:  150\n",
            "time (mean, std): ( 1223.3079608680005     15.386374336000245 )\n",
            "iterations (mean, std): ( 115.5     1.5 )\n",
            "best fitness (mean, std): ( 145.5     0.5 )\n"
          ]
        }
      ]
    },
    {
      "cell_type": "code",
      "source": [
        "\n",
        "#plot results - fitness\n",
        "#plt.plot(vectorsizes, RHC_mean_fitness , '-o', label='RHC')\n",
        "plt.errorbar(x=vectorsizes, y=RHC_mean_fitness, yerr=RHC_std_fitness, barsabove=True, fmt='-o', label='RHC')\n",
        "plt.errorbar(x=vectorsizes, y=SA_mean_fitness, yerr=SA_std_fitness, barsabove=True, fmt='-o', label='SA')\n",
        "plt.errorbar(x=vectorsizes, y=GA_mean_fitness, yerr=GA_std_fitness, barsabove=True, fmt='-o', label='GA')\n",
        "plt.errorbar(x=MIMIC_vectorsizes, y=MIMIC_mean_fitness, yerr=MIMIC_std_fitness, barsabove=True, fmt='-o', label='MIMIC')\n",
        "plt.title('OneMax Random Optimization - mean fitness')\n",
        "plt.ylabel('mean fitness, ten repeats')\n",
        "plt.xlabel('X vector size')\n",
        "plt.legend()\n",
        "plt.show()"
      ],
      "metadata": {
        "colab": {
          "base_uri": "https://localhost:8080/",
          "height": 295
        },
        "id": "RrX1nI3plHA6",
        "outputId": "8cd8ad13-5e7b-45d7-c1b5-28c91fad08fb"
      },
      "execution_count": 41,
      "outputs": [
        {
          "output_type": "display_data",
          "data": {
            "text/plain": [
              "<Figure size 432x288 with 1 Axes>"
            ],
            "image/png": "[encoded data removed]"
          },
          "metadata": {
            "needs_background": "light"
          }
        }
      ]
    },
    {
      "cell_type": "code",
      "source": [
        "#plot results - iterations\n",
        "#plt.plot(vectorsizes, RHC_mean_fitness , '-o', label='RHC')\n",
        "plt.errorbar(x=vectorsizes, y=RHC_mean_iterations, yerr=RHC_std_iterations, barsabove=True, fmt='-o', label='RHC')\n",
        "plt.errorbar(x=vectorsizes, y=SA_mean_iterations, yerr=SA_std_iterations, barsabove=True, fmt='-o', label='SA')\n",
        "plt.errorbar(x=vectorsizes, y=GA_mean_iterations, yerr=GA_std_iterations, barsabove=True, fmt='-o', label='GA')\n",
        "plt.errorbar(x=MIMIC_vectorsizes, y=MIMIC_mean_iterations, yerr=MIMIC_std_iterations, barsabove=True, fmt='-o', label='MIMIC')\n",
        "plt.title('OneMax Random Optimization - mean iterations per run')\n",
        "plt.ylabel('mean iterations, ten repeats')\n",
        "plt.xlabel('X vector size')\n",
        "plt.legend()\n",
        "plt.show()"
      ],
      "metadata": {
        "colab": {
          "base_uri": "https://localhost:8080/",
          "height": 295
        },
        "id": "cH4wxYIIqFSh",
        "outputId": "7c6e5778-6484-4fe6-f0c5-a32cd3f5e867"
      },
      "execution_count": 44,
      "outputs": [
        {
          "output_type": "display_data",
          "data": {
            "text/plain": [
              "<Figure size 432x288 with 1 Axes>"
            ],
            "image/png": "[encoded data removed]"
          },
          "metadata": {
            "needs_background": "light"
          }
        }
      ]
    },
    {
      "cell_type": "code",
      "source": [
        "#plot results - run time\n",
        "#plt.plot(vectorsizes, RHC_mean_fitness , '-o', label='RHC')\n",
        "plt.errorbar(x=vectorsizes, y=RHC_mean_time, yerr=RHC_std_time, barsabove=True, fmt='-o', label='RHC')\n",
        "plt.errorbar(x=vectorsizes, y=SA_mean_time, yerr=SA_std_time, barsabove=True, fmt='-o', label='SA')\n",
        "plt.errorbar(x=vectorsizes, y=GA_mean_time, yerr=GA_std_time, barsabove=True, fmt='-o', label='GA')\n",
        "plt.errorbar(x=MIMIC_vectorsizes, y=MIMIC_mean_time, yerr=MIMIC_std_time, barsabove=True, fmt='-o', label='MIMIC')\n",
        "plt.title('OneMax Random Optimization - mean run time')\n",
        "plt.ylabel('mean run time, ten repeats (sec)')\n",
        "plt.yscale('log')\n",
        "plt.xlabel('X vector size')\n",
        "plt.legend()\n",
        "plt.show()"
      ],
      "metadata": {
        "id": "hnMuNTiq2gy_",
        "colab": {
          "base_uri": "https://localhost:8080/",
          "height": 295
        },
        "outputId": "19c3bc18-0fe0-4696-a9c1-24004be573dd"
      },
      "execution_count": 43,
      "outputs": [
        {
          "output_type": "display_data",
          "data": {
            "text/plain": [
              "<Figure size 432x288 with 1 Axes>"
            ],
            "image/png": "[encoded data removed]"
          },
          "metadata": {
            "needs_background": "light"
          }
        }
      ]
    }
  ]
}